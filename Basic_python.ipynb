{
 "cells": [
  {
   "cell_type": "code",
   "execution_count": 1,
   "metadata": {},
   "outputs": [
    {
     "name": "stdout",
     "output_type": "stream",
     "text": [
      "--------------->\n",
      "<----------\n",
      "------->\n",
      "<----------\n",
      "--------------->\n",
      "+*****************************+\n",
      "     +****************+\n",
      "         +********+  \n",
      "           +****+  \n",
      "            +*+\n",
      "             *\n"
     ]
    }
   ],
   "source": [
    "#BASIC PYTHON WALKTHROUGH\n",
    "\n",
    "from math import *\n",
    "\n",
    "# 1.PRINTING OUT SOME STRUCTURES\n",
    "\n",
    "print(\"--------------->\")\n",
    "print(\"<----------\")\n",
    "print(\"------->\")\n",
    "print(\"<----------\")\n",
    "print(\"--------------->\")\n",
    "print(\"+*****************************+\")\n",
    "print(\"     +****************+\")\n",
    "print(\"         +********+  \")\n",
    "print(\"           +****+  \")\n",
    "print(\"            +*+\")\n",
    "print(\"             *\")"
   ]
  },
  {
   "cell_type": "code",
   "execution_count": 2,
   "metadata": {},
   "outputs": [
    {
     "name": "stdout",
     "output_type": "stream",
     "text": [
      "Asim studies in Kathmandu Univeristy\n"
     ]
    }
   ],
   "source": [
    "#storing data in variables\n",
    "\n",
    "name= \"Asim\"\n",
    "colz=\"Kathmandu Univeristy\"\n",
    " \n",
    "print(name+ \" studies in \" +colz)"
   ]
  },
  {
   "cell_type": "code",
   "execution_count": 3,
   "metadata": {},
   "outputs": [
    {
     "name": "stdout",
     "output_type": "stream",
     "text": [
      "CODING is fun.\n"
     ]
    }
   ],
   "source": [
    "# 2. USING INBUILT FUNCTION\n",
    "\n",
    "code=\"Coding\"\n",
    "print(code.upper()+\" is fun.\") #the variable code is changed into uppercase using function upper()"
   ]
  },
  {
   "cell_type": "code",
   "execution_count": 4,
   "metadata": {},
   "outputs": [
    {
     "name": "stdout",
     "output_type": "stream",
     "text": [
      "6\n"
     ]
    }
   ],
   "source": [
    "#printing out the length\n",
    "print(len(code))\n"
   ]
  },
  {
   "cell_type": "code",
   "execution_count": 5,
   "metadata": {},
   "outputs": [
    {
     "name": "stdout",
     "output_type": "stream",
     "text": [
      "C\n"
     ]
    }
   ],
   "source": [
    "#using index which starts from zero\n",
    "print(code[0])#accessing first character in string=\"Coding\"\n"
   ]
  },
  {
   "cell_type": "code",
   "execution_count": 6,
   "metadata": {},
   "outputs": [
    {
     "name": "stdout",
     "output_type": "stream",
     "text": [
      "0\n"
     ]
    }
   ],
   "source": [
    "#using vice versa-->finding the index value of \"C\"\n",
    "print(code.index(\"C\"))"
   ]
  },
  {
   "cell_type": "code",
   "execution_count": 7,
   "metadata": {},
   "outputs": [
    {
     "name": "stdout",
     "output_type": "stream",
     "text": [
      "Programming\n"
     ]
    }
   ],
   "source": [
    "#using replace function to replace the string\n",
    "print(code.replace(\"Coding\",\"Programming\"))"
   ]
  },
  {
   "cell_type": "code",
   "execution_count": 8,
   "metadata": {},
   "outputs": [
    {
     "name": "stdout",
     "output_type": "stream",
     "text": [
      "6.8\n",
      "------------------------\n",
      "-2.2\n",
      "------------------------\n",
      "27\n",
      "------------------------\n",
      "10 is first two digit number\n"
     ]
    }
   ],
   "source": [
    "# 3.WORKING WITH NUMBERS\n",
    "#Addition\n",
    "print(2.3+ 4.5)\n",
    "\n",
    "print(\"------------------------\")\n",
    "\n",
    "#Subtraction\n",
    "print(2.3-4.5)\n",
    "print(\"------------------------\")\n",
    "# all operations at once\n",
    "print(3*(4+5))\n",
    "print(\"------------------------\")\n",
    "#converting the number into string\n",
    "num=10\n",
    "print(str(num)+ \" is first two digit number\")"
   ]
  },
  {
   "cell_type": "code",
   "execution_count": 9,
   "metadata": {},
   "outputs": [
    {
     "name": "stdout",
     "output_type": "stream",
     "text": [
      "10\n",
      "8.0\n",
      "10\n",
      "9\n",
      "6\n",
      "5\n",
      "6\n",
      "6.0\n"
     ]
    }
   ],
   "source": [
    "#most common use math funcitons\n",
    "\n",
    "num=-10\n",
    "#absolute value\n",
    "print(abs(num))\n",
    "\n",
    "#power\n",
    "print(pow(2,3))\n",
    "\n",
    "#maximum value\n",
    "print(max(10,9))\n",
    "\n",
    "#minimum value\n",
    "print(min(10,9))\n",
    "\n",
    "#round\n",
    "print(round(5.7))\n",
    "\n",
    "#floor and ceiling function\n",
    "print(floor(5.7))\n",
    "print(ceil(5.7))\n",
    "\n",
    "#square root\n",
    "print(sqrt(36))\n"
   ]
  },
  {
   "cell_type": "code",
   "execution_count": 10,
   "metadata": {},
   "outputs": [
    {
     "name": "stdout",
     "output_type": "stream",
     "text": [
      "Enter your name: Asim\n",
      "Enter your colz: KU\n",
      "Your name is Asim and you study in KU\n"
     ]
    }
   ],
   "source": [
    "# 4.GETTING INPUT FROM USER\n",
    "\n",
    "name = input(\"Enter your name: \")\n",
    "colz = input(\"Enter your colz: \")\n",
    "print(\"Your name is \" + name+ \" and you study in \"+colz)"
   ]
  },
  {
   "cell_type": "code",
   "execution_count": 11,
   "metadata": {},
   "outputs": [
    {
     "name": "stdout",
     "output_type": "stream",
     "text": [
      "Enter a number:2\n",
      "Enter another number:3\n",
      "5.0\n"
     ]
    }
   ],
   "source": [
    "# 5.BUILDING A BASIC CALCULATOR THAT PERFORMS ADDITION\n",
    "\n",
    "num1=input(\"Enter a number:\")\n",
    "num2=input(\"Enter another number:\")\n",
    "\n",
    "result=float(num1)+float(num2)#changing the string into the float number\n",
    "print(result)\n"
   ]
  },
  {
   "cell_type": "code",
   "execution_count": 12,
   "metadata": {},
   "outputs": [
    {
     "name": "stdout",
     "output_type": "stream",
     "text": [
      "Enter a color:red\n",
      "Enter a plural noun:blues\n",
      "Enter a celebrity:tom\n",
      "Enter your favorite sports:football\n",
      "----------------------------------------------\n",
      "\n",
      "Roses are red\n",
      "blues are blue\n",
      "I love tom\n",
      "I hate football\n"
     ]
    }
   ],
   "source": [
    "# 6.BUILDING A MAD LIB GAME\n",
    "#Its time for some fun , this game makes no sense\n",
    "\n",
    "color=input(\"Enter a color:\")\n",
    "plural_noun=input(\"Enter a plural noun:\")\n",
    "celebrity=input(\"Enter a celebrity:\")\n",
    "sports=input(\"Enter your favorite sports:\")\n",
    "print(\"----------------------------------------------\")\n",
    "print(\"\\nRoses are \"+color)\n",
    "print(plural_noun+\" are blue\")\n",
    "print(\"I love \"+ celebrity)\n",
    "print(\"I hate \"+ sports )\n"
   ]
  },
  {
   "cell_type": "code",
   "execution_count": 13,
   "metadata": {},
   "outputs": [
    {
     "name": "stdout",
     "output_type": "stream",
     "text": [
      "['football', 'basketball', 'volleyball', 'table-tennis', 'long-tennis', 'Badminton']\n",
      "football\n",
      "['basketball', 'volleyball', 'table-tennis', 'long-tennis', 'Badminton']\n",
      "['basketball', 'volleyball']\n"
     ]
    }
   ],
   "source": [
    "# DATA STRUCTURES IN PYTHON\n",
    "# 7.WORKING WITH LISTS\n",
    "\n",
    "sports=[\"football\",\"basketball\",\"volleyball\",\"table-tennis\",\"long-tennis\",\"Badminton\"]\n",
    "print(sports)\n",
    "print(sports[0])#printing element at index 0\n",
    "print(sports[1:])#printing all elements from index 1\n",
    "print(sports[1:3])#printing from index 1 to index 3\n"
   ]
  },
  {
   "cell_type": "code",
   "execution_count": 14,
   "metadata": {},
   "outputs": [
    {
     "name": "stdout",
     "output_type": "stream",
     "text": [
      "['1', '5', '9', '4', '6', '43', '21']\n",
      "['football', 'basketball', 'volleyball', 'table-tennis']\n",
      "['football', 'basketball', 'volleyball', 'table-tennis', 'golf']\n",
      "['football', 'cricket', 'basketball', 'volleyball', 'table-tennis', 'golf']\n",
      "['football', 'cricket', 'basketball', 'volleyball', 'table-tennis']\n",
      "2\n",
      "['football', 'cricket', 'volleyball', 'table-tennis']\n",
      "['cricket', 'football', 'table-tennis', 'volleyball']\n"
     ]
    }
   ],
   "source": [
    "# Most commonly used list functions\n",
    "\n",
    "numbers=[\"1\",\"5\",\"9\",\"4\",\"6\",\"43\",\"21\"]\n",
    "sports=[\"football\",\"basketball\",\"volleyball\",\"table-tennis\"]\n",
    "\n",
    "print(numbers)\n",
    "print(sports)\n",
    "sports.append(\"golf\") #appending golf at end of sports list\n",
    "print(sports)\n",
    "sports.insert(1,\"cricket\") #insert cricket\n",
    "print(sports)\n",
    "sports.pop() #pops out the last element\n",
    "print(sports)\n",
    "print(sports.index(\"basketball\"))#finding the index of basketball\n",
    "sports.remove(\"basketball\") #removes basketball\n",
    "print(sports)\n",
    "sports.sort()#sorting in alphabetical order\n",
    "print(sports)\n"
   ]
  },
  {
   "cell_type": "code",
   "execution_count": 15,
   "metadata": {},
   "outputs": [
    {
     "name": "stdout",
     "output_type": "stream",
     "text": [
      "7\n",
      "David\n"
     ]
    }
   ],
   "source": [
    "# 8.WORKING WITH TUPLES (SIMILAR TO THE LIST)\n",
    "#tuples are immutable that means it cannot be changed\n",
    "#In tuples parenthesis is used instead of square bracket\n",
    "#for permanent data tuples are used\n",
    "\n",
    "point_in_space=(2,7)\n",
    "name_of_students=(\"Kevin\",\"David\",\"John\",\"Mike\")\n",
    "print(point_in_space[1])\n",
    "print(name_of_students[1])"
   ]
  },
  {
   "cell_type": "code",
   "execution_count": 16,
   "metadata": {},
   "outputs": [
    {
     "name": "stdout",
     "output_type": "stream",
     "text": [
      " Hello !!! Mike you are from Stanford University and you are 23\n",
      " Hello !!! Asim you are from Kathmandu Univeristy and you are 21\n"
     ]
    }
   ],
   "source": [
    "# 9.WORKING WITH FUNCTIONS\n",
    "#collection of instruction that performs the specific task\n",
    "#organize the code into different chunks that have particular objective\n",
    "\n",
    "#function that says \"Hello\"\n",
    "\n",
    "def say_hello(name,colz,age):#here we have passed three parameters\n",
    "    print(\" Hello !!! \"+name +\" you are from \"+colz + \" and you are \"+ str(age))\n",
    "\n",
    "say_hello(\"Mike\",\"Stanford University\",23) #here the function say_hello() is called\n",
    "say_hello(\"Asim\",\"Kathmandu Univeristy\",21)\n"
   ]
  },
  {
   "cell_type": "code",
   "execution_count": 17,
   "metadata": {},
   "outputs": [
    {
     "name": "stdout",
     "output_type": "stream",
     "text": [
      "27\n"
     ]
    }
   ],
   "source": [
    "# 10.RETURN STATEMENTS IN PYTHON FUNCTIONS\n",
    "#getting information back from the function\n",
    "#Here cube of \"3\" is computed\n",
    "def cube(a):\n",
    "    return a*a*a\n",
    "    #return keyword breaks out of the function\n",
    "result=cube(3)\n",
    "print(result)"
   ]
  },
  {
   "cell_type": "code",
   "execution_count": 18,
   "metadata": {},
   "outputs": [
    {
     "name": "stdout",
     "output_type": "stream",
     "text": [
      "You are a male or tall or both\n"
     ]
    }
   ],
   "source": [
    "# 11.USING IF STATEMENTS\n",
    "\n",
    "#checking if statement with boolean value\n",
    "#checking all necesssary condition TT TF FT FF\n",
    "\n",
    "is_male=False #you can put any boolean values\n",
    "is_tall=True\n",
    "\n",
    "if is_male or is_tall: # we can use \"or\" \"and\" operation\n",
    "    print(\"You are a male or tall or both\")\n",
    "elif is_male and not(is_tall):\n",
    "    print(\"You are male and not tall\")\n",
    "elif not(is_male) and (is_tall):\n",
    "    print(\"You are not male but tall\")\n",
    "else:\n",
    "    print(\"You are not a male\")\n"
   ]
  },
  {
   "cell_type": "code",
   "execution_count": 19,
   "metadata": {},
   "outputs": [
    {
     "name": "stdout",
     "output_type": "stream",
     "text": [
      "300\n"
     ]
    }
   ],
   "source": [
    "# 12.IF STATEMENTS AND COMPARSION\n",
    "\n",
    "#making a function that finds greatest among the three numbers\n",
    "def max_num(a,b,c):\n",
    "    if a>=b and a>=c:\n",
    "        return a\n",
    "    elif b>=a and b>=c:\n",
    "        return b \n",
    "    else:\n",
    "        return c\n",
    "\n",
    "print(max_num(200,300,150))\n"
   ]
  },
  {
   "cell_type": "code",
   "execution_count": 20,
   "metadata": {},
   "outputs": [
    {
     "name": "stdout",
     "output_type": "stream",
     "text": [
      "Enter the first number:1\n",
      "Enter the operation:+\n",
      "Enter the second number:2\n",
      "3.0\n"
     ]
    }
   ],
   "source": [
    "# 12. MAKING A BASIC CALCULATOR\n",
    "\n",
    "number_1=float(input(\"Enter the first number:\"))\n",
    "operator=input(\"Enter the operation:\")\n",
    "number_2=float(input(\"Enter the second number:\"))\n",
    "\n",
    "if operator==\"+\":\n",
    "    print (number_1 + number_2)\n",
    "\n",
    "elif operator==\"-\":\n",
    "    print (number_1 - number_2)\n",
    "\n",
    "elif operator==\"/\":\n",
    "    print (number_1 / number_2)\n",
    "\n",
    "elif operator==\"*\":\n",
    "    print(number_1 * number_2)\n",
    "\n",
    "else:\n",
    "    print(\"Invalid operator\")\n"
   ]
  },
  {
   "cell_type": "code",
   "execution_count": 21,
   "metadata": {},
   "outputs": [
    {
     "name": "stdout",
     "output_type": "stream",
     "text": [
      "Janaury\n"
     ]
    }
   ],
   "source": [
    "# 13. USING DICTANORIS IN PYTHON\n",
    "\n",
    "#word=key and  actual defination=value\n",
    "#program to convert three digit month name into the real month name\n",
    "#key value pairs\n",
    "# \"key_values\"=\"actual meaning\" ,key value can be anything\n",
    "\n",
    "convert_month={ \"Jan\": \"Janaury\",\n",
    "                \"Feb\":\"Februray\",\n",
    "                \"Mar\":\"March\",\n",
    "                \"Apr\":\"April\",\n",
    "                \"May\":\"May\",\n",
    "                \"Jun\":\"June\",\n",
    "                \"Jul\":\"July\",\n",
    "                \"Aug\":\"August\",\n",
    "                \"Sep\":\"September\",\n",
    "                \"Oct\":\"October\",\n",
    "                \"Nov\":\"November\",\n",
    "                \"Dec\":\"December\"\n",
    "}\n",
    "# print(convert_month[\"Jan\"])\n",
    "print(convert_month.get(\"Jan\"))\n"
   ]
  },
  {
   "cell_type": "code",
   "execution_count": 22,
   "metadata": {},
   "outputs": [
    {
     "name": "stdout",
     "output_type": "stream",
     "text": [
      "1\n",
      "2\n",
      "3\n",
      "4\n",
      "5\n",
      "6\n",
      "7\n",
      "8\n",
      "9\n",
      "10\n",
      "11\n",
      "12\n",
      "13\n",
      "14\n",
      "15\n",
      "16\n",
      "17\n",
      "18\n",
      "19\n",
      "20\n",
      "21\n",
      "22\n",
      "23\n",
      "24\n",
      "25\n",
      "26\n",
      "27\n",
      "28\n",
      "29\n",
      "30\n",
      "31\n",
      "32\n",
      "33\n",
      "34\n",
      "35\n",
      "36\n",
      "37\n",
      "38\n",
      "39\n",
      "40\n",
      "41\n",
      "42\n",
      "43\n",
      "44\n",
      "45\n",
      "46\n",
      "47\n",
      "48\n",
      "49\n",
      "50\n",
      "We are out of the while loop\n"
     ]
    }
   ],
   "source": [
    "# 14. WHILE LOOP IN PYTHON\n",
    "\n",
    "#printing from one to fifty using a basic while loop\n",
    "\n",
    "i=1\n",
    "while i<=50:\n",
    "    print(i)\n",
    "    i += 1\n",
    "print(\"We are out of the while loop\")\n"
   ]
  },
  {
   "cell_type": "code",
   "execution_count": 23,
   "metadata": {},
   "outputs": [
    {
     "name": "stdout",
     "output_type": "stream",
     "text": [
      "Enter your guess word:Coding\n",
      "Enter your guess word:coding\n",
      "You have WON !\n"
     ]
    }
   ],
   "source": [
    "# 15. BUILD A BASIC GUESSING GAME\n",
    "\n",
    "secret_word=\"coding\"\n",
    "user_word=\"\"\n",
    "count =0\n",
    "limit=3 #this means you can guess upto three times\n",
    "out_of_guesses=False\n",
    "\n",
    "while secret_word!=user_word and not(out_of_guesses):\n",
    "    if count < limit:\n",
    "        user_word=input(\"Enter your guess word:\")\n",
    "        count +=1\n",
    "    else:\n",
    "        out_of_guesses=True\n",
    "\n",
    "if out_of_guesses:\n",
    "    print(\"You are out of guesses, YOU LOSE !\")\n",
    "else:\n",
    "    print(\"You have WON !\")"
   ]
  },
  {
   "cell_type": "code",
   "execution_count": 24,
   "metadata": {},
   "outputs": [
    {
     "name": "stdout",
     "output_type": "stream",
     "text": [
      "Football\n",
      "Basketball\n",
      "Cricket\n",
      "Volleyball\n",
      "--------------------------------------------------------------------\n",
      "2\n",
      "3\n",
      "4\n",
      "5\n",
      "6\n",
      "7\n",
      "8\n",
      "9\n",
      "---------------------------------------------------------------------\n",
      "First Iteration\n",
      "Second Iteration\n",
      "Third Iteration\n",
      "Fourth Iteration\n",
      "Fifth iteration\n"
     ]
    }
   ],
   "source": [
    "# 16. USING FOR LOOP\n",
    "\n",
    "sports=[\"Football\",\"Basketball\",\"Cricket\",\"Volleyball\"]\n",
    "for sport in sports:\n",
    "    print(sport)\n",
    "\n",
    "print(\"--------------------------------------------------------------------\")\n",
    "#for loop in index range\n",
    "for index in range(2,10):\n",
    "    print(index)#printing the number from 2 to 9 , it is exclusive\n",
    "\n",
    "print(\"---------------------------------------------------------------------\")\n",
    "for index in range(5):\n",
    "    if index==0:\n",
    "        print(\"First Iteration\")\n",
    "    elif index==1:\n",
    "        print(\"Second Iteration\")\n",
    "    elif index==2:\n",
    "        print(\"Third Iteration\")\n",
    "    elif index==3:\n",
    "        print(\"Fourth Iteration\")\n",
    "    else:\n",
    "        print(\"Fifth iteration\")\n",
    "\n"
   ]
  },
  {
   "cell_type": "code",
   "execution_count": 25,
   "metadata": {},
   "outputs": [
    {
     "name": "stdout",
     "output_type": "stream",
     "text": [
      "8\n"
     ]
    }
   ],
   "source": [
    "# 17.USING FOR LOOP TO WRITE A EXPONENT FUNCTION\n",
    "\n",
    "def exponent(number,power):\n",
    "    result=1\n",
    "    for index in range(power):\n",
    "        result=result*number\n",
    "    return result\n",
    "\n",
    "print(exponent(2,3))#Here \"2\" is raised to the power of \"3\"\n"
   ]
  },
  {
   "cell_type": "code",
   "execution_count": 26,
   "metadata": {},
   "outputs": [
    {
     "name": "stdout",
     "output_type": "stream",
     "text": [
      "6\n",
      "-----------------------------------------\n",
      "1\n",
      "2\n",
      "3\n",
      "4\n",
      "6\n",
      "8\n",
      "9\n",
      "12\n",
      "10\n"
     ]
    }
   ],
   "source": [
    "# 18. 2D lists and nested for loops\n",
    "\n",
    "grid=[\n",
    "    [1,2,3],\n",
    "    [4,6,8],\n",
    "    [9,12,10]\n",
    "]\n",
    "print(grid[1][1])\n",
    "print(\"-----------------------------------------\")\n",
    "#first of all rows is scanned and each element of row is printed\n",
    "for row in grid:\n",
    "    for col in row:\n",
    "        print(col)\n"
   ]
  },
  {
   "cell_type": "code",
   "execution_count": 27,
   "metadata": {},
   "outputs": [
    {
     "name": "stdout",
     "output_type": "stream",
     "text": [
      "Enter a word :aeiou\n",
      "zzzzz\n"
     ]
    }
   ],
   "source": [
    "#19. BASIC TRANSLTOR\n",
    "# Here any vowel letter is changed into letter \"z\"\n",
    "\n",
    "def transform(word):\n",
    "    translator=\"\"\n",
    "    for letter in word:\n",
    "        if letter in \"AEIOUaeiou\":\n",
    "            if letter.isupper():\n",
    "                translator=translator + \"Z\"\n",
    "            else:\n",
    "                translator=translator + \"z\"\n",
    "\n",
    "        else:\n",
    "            translator=translator+letter\n",
    "    return translator\n",
    "\n",
    "print(transform(input(\"Enter a word :\")))\n"
   ]
  },
  {
   "cell_type": "code",
   "execution_count": 29,
   "metadata": {},
   "outputs": [
    {
     "name": "stdout",
     "output_type": "stream",
     "text": [
      "Enter a number:22\n",
      "22\n"
     ]
    }
   ],
   "source": [
    "# 20. CATCHING ERROR IN PYTHON\n",
    "#try except block\n",
    "#catiching invalid input using try accept block\n",
    "try:\n",
    "    # i=5/0\n",
    "    number =int(input(\"Enter a number:\"))\n",
    "    print(number)\n",
    "# except ZeroDivisionError:\n",
    "    # print(\"Invalid Input-Divided by zero\")\n",
    "except:\n",
    "    print(\"Invalid Input\")\n"
   ]
  },
  {
   "cell_type": "code",
   "execution_count": 31,
   "metadata": {},
   "outputs": [],
   "source": [
    "#21. READING FROM EXTERNAL FILE IN PYTHON\n",
    "#read the file in other directories\n",
    "#using python read command\n",
    "\n",
    "# open(\"filename.txt\",\"modes\") #you can put the file name or its path\n",
    "#modes can be read,write append \n",
    "#lets store it in a variable\n",
    "# info= open(\"filename.txt\",\"modes\")\n",
    "# info.close()#closing a file\n"
   ]
  },
  {
   "cell_type": "code",
   "execution_count": 32,
   "metadata": {},
   "outputs": [],
   "source": [
    "#22.WRITING THE FILE\n",
    "#for reading and writing we can use pandas libraries\n",
    "\n"
   ]
  },
  {
   "cell_type": "code",
   "execution_count": 33,
   "metadata": {},
   "outputs": [],
   "source": [
    "#23.MODULES IN PYTHON\n",
    "\n",
    "#you can import different necessary modules in python\n",
    "#import math\n",
    "#import random\n",
    "#import os\n",
    "#import time and there are many mores"
   ]
  },
  {
   "cell_type": "code",
   "execution_count": 34,
   "metadata": {},
   "outputs": [
    {
     "name": "stdout",
     "output_type": "stream",
     "text": [
      "23\n",
      "False\n",
      "Jones\n",
      "39\n"
     ]
    }
   ],
   "source": [
    "#OOP(OBJECT ORIENTED PROGRAMMING)\n",
    "\n",
    "#24. CLASSES AND OBJECTS IN PYTHON\n",
    "#it makes program more organized and more powerful\n",
    "#when data-types in python cant cover , we should create our own datatype\n",
    "\n",
    "class student:\n",
    "    #initialize functiom\n",
    "    def __init__(self,name,major,gpa,age,is_on_colz):\n",
    "\n",
    "        #what attribute a student should have\n",
    "        self.name=name\n",
    "        self.major=major\n",
    "        self.gpa=gpa\n",
    "        self.age=age\n",
    "        self.is_on_colz=is_on_colz\n",
    "\n",
    "#class is the overview of what a student is, object is the actutal student\n",
    "\n",
    "class teacher:\n",
    "\n",
    "    def __init__(self,name,faculty,age,qualification):\n",
    "        self.name=name\n",
    "        self.faculty=faculty\n",
    "        self.age=age\n",
    "        self.qualification=qualification\n",
    "\n",
    "teacher_1=teacher(\"Jones\",\"Mechanical\",\"42\",\"Phd\")\n",
    "teacher_2=teacher(\"David\",\"CS\",\"39\",\"Masters\")\n",
    "\n",
    "student_1=student(\"MIke\",\"CS\",\"3.0\",\"21\",False)\n",
    "student_2=student(\"David\",\"Arts\",\"3.1\",\"23\",True)\n",
    "\n",
    "#here student_1 ,student_2 ,teacher_1 and teacher_2 are objects\n",
    "\n",
    "print(student_2.age)\n",
    "print(student_1.is_on_colz)\n",
    "\n",
    "print(teacher_1.name)\n",
    "print(teacher_2.age)\n",
    "\n",
    " \n",
    "\n"
   ]
  },
  {
   "cell_type": "code",
   "execution_count": null,
   "metadata": {},
   "outputs": [],
   "source": []
  }
 ],
 "metadata": {
  "kernelspec": {
   "display_name": "Python 3",
   "language": "python",
   "name": "python3"
  },
  "language_info": {
   "codemirror_mode": {
    "name": "ipython",
    "version": 3
   },
   "file_extension": ".py",
   "mimetype": "text/x-python",
   "name": "python",
   "nbconvert_exporter": "python",
   "pygments_lexer": "ipython3",
   "version": "3.7.6"
  }
 },
 "nbformat": 4,
 "nbformat_minor": 4
}
